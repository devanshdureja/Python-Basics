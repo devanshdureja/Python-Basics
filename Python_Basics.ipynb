{
  "nbformat": 4,
  "nbformat_minor": 0,
  "metadata": {
    "colab": {
      "provenance": []
    },
    "kernelspec": {
      "name": "python3",
      "display_name": "Python 3"
    },
    "language_info": {
      "name": "python"
    }
  },
  "cells": [
    {
      "cell_type": "markdown",
      "source": [
        "# PYTHON BASICS\n",
        "\n",
        "1. What is Python, and why is it popular?\n",
        "   - **Definition**: Python is high-level language which is both compiled and interpreted. It's code is first compiled to bytecode and then interpreted via the PVM(Python Virtual Machine).\n",
        "   \n",
        "   - **Why it is popular**\n",
        "    \n",
        "      - Simplicity & Readability: Python programming language is clear &its English-like syntax makes it easy to learn and read helping beginners understand and write code quickly.\n",
        "      \n",
        "      - Minimal Boilerplate: Using Python, tasks can be accomplished with fewer lines of code as compared to many other languages.\n",
        "\n",
        "      - Versatility: Python has wide range of applications , such as web development(with frameworks like DJANGO), data science(with libraries like Pandas), machine learning and automation.\n",
        "\n",
        "      - Massive amount of Libraries: Python has vast number of powerful third-party libraries available:\n",
        "\n",
        "        - Data Science:- NumPy, Pandas, Matpotlib, TensorFlow, Pytorch\n",
        "        - Web Development:- Django, Flask, FsatAPI\n",
        "        - Automation & Testing:- Selenium, PyTest, Requests\n",
        "\n",
        "      - Strong Community: Pyhton has large and active community with millions of developers contributing for the global support.\n",
        "\n",
        "      - Rich Resources: There are tons of tutorials, documentation, and open-source projects which are available for free.This huge collection of resources helped Python evolve rapidly and enabling advanced use cases.\n"
      ],
      "metadata": {
        "id": "So_DfkbdrAjd"
      }
    },
    {
      "cell_type": "markdown",
      "source": [
        "  2. What is an interpreter in Python?\n",
        "   \n",
        "     - **Definition**: The python interpreter is a program that reads and executes python code line by line. It works in two steps:\n",
        "\n",
        "     - **Working**\n",
        "        - Compile: When we run a script, the interpreter translates the high-level Python code into an intermediate format called bytecode\n",
        "        - Interpret: This bytecode is then line-by-line executed by the Python Virtual Machine(PVM).\n",
        "      \n",
        "      - **Common Python Interpreters**\n",
        "        - CPython:\tDefault and most widely used (written in C)\n",
        "        - PyPy:\tFaster execution using Just-In-Time (JIT) compilation\n",
        "        - Jython:\tRuns Python code on the Java platform\n",
        "        - IronPython:\tIntegrates with .NET framework\n",
        "        - MicroPython:\tLightweight interpreter for microcontrollers\n",
        "\n"
      ],
      "metadata": {
        "id": "jidFCCAu1AT_"
      }
    },
    {
      "cell_type": "markdown",
      "source": [
        "3. What are pre-defined keywords in Python?\n",
        "\n",
        "    - **Definition**: Pre-defined keywords are reserved words in python that have a fixed meaanings to the interpreter. They form the building blocks of the language's syntax and structure and cannot be used for anything else, like variable or function names.\n",
        "    \n",
        "    - **Example keywords**: Common examples like if, else, for, while, def, class, True, False, None.\n",
        "\n",
        "    - To get the full list of keywords, write :\n",
        "      ```\n",
        "      help(\"keywords\")\n",
        "      ```\n",
        "\n"
      ],
      "metadata": {
        "id": "A38wifoq3UUJ"
      }
    },
    {
      "cell_type": "markdown",
      "source": [
        "4. Can keywords be used as variable names?\n",
        "\n",
        "    - No, keywords cannot be used as variable names in python.They are reserved for specific syntax and functionality, so using them as variable names will result in a SyntaxError.\n",
        "    - Example: The interpreter will throw a SyntaxError if you try to use Python keywords as variables\n",
        "\n",
        "      ```\n",
        "      def = 10\n",
        "      def\n",
        "      # Output: SyntaxError: invalid syntax\n",
        "      ```\n",
        "\n"
      ],
      "metadata": {
        "id": "AsJX8hU85XHT"
      }
    },
    {
      "cell_type": "markdown",
      "source": [
        "5. What is mutability in Python?\n",
        "\n",
        "    - Mutability refers to whether an objecct's state or value can be changed after it has been creaatedd.\n",
        "    \n",
        "      **Mutable Objects:** can be modified in-place. No need to create a new object.\n",
        "    \n",
        "      - Examples: list, dict\n",
        "      \n",
        "        ```\n",
        "        check_in = [\"seat 12D\", \"veg meal\", \"1 bag\"]\n",
        "        check_in[0] = \"seat 14C\"\n",
        "        print(check_in[0])\n",
        "        # Output: seat 14C\n",
        "        ```\n",
        "\n",
        "\n",
        "\n",
        "      **Immutable Objects:** cannot be changed after creation.\n",
        "    \n",
        "      - Examples: int, float, str\n",
        "      \n",
        "        ```\n",
        "        passport = \"id1234\"\n",
        "        passport[5] = \"5\"\n",
        "        # Output: TypeError: 'str' object does not support item assignment\n",
        "\n",
        "        ```"
      ],
      "metadata": {
        "id": "YL9M0277SIkX"
      }
    },
    {
      "cell_type": "markdown",
      "source": [
        "6. Why are lists mutable, but tuples are immutable?\n",
        "\n",
        "    - **Lists**: Are designed for collections of items that can grow, shrink, or be modified. They are ideal for situations where you need a flexible, dynamic data structure.\n",
        "    \n",
        "    - **Tuples**: Are intended for collections of items that should not change. Their immutability offers several advantages:\n",
        "      - Data Integrity: Guarantees that the data remains constant.\n",
        "      - Efficiency: They are slightly faster to access than lists and use less memory because their size is fixed.\n",
        "      - Hashability: Because their content cannot change, they can be used as keys in dictionaries, which lists cannot"
      ],
      "metadata": {
        "id": "k7Wv8NMaadSP"
      }
    },
    {
      "cell_type": "markdown",
      "source": [
        "7. What is the difference between == and is operators in Python?\n",
        "\n",
        "    - **== (Value Equality operator)**: Compares the values of two objects. It checks if the contents of the objects are the same.\n",
        "    - **is (Identity operator)**: It checks if two variables point to the exact same object in memory.\n",
        "    - Examples:\n",
        "\n",
        "\n",
        "      ```\n",
        "      statement1 = [\"Txn1: 500\", \"Txn2: 200\"]\n",
        "      statement2 = [\"Txn1: 500\", \"Txn2: 200\"]\n",
        "      print(statement1 == statement2)\n",
        "      # Output: True\n",
        "\n",
        "      print(statement1 is statement2)\n",
        "      # Output: False\n",
        "      ```\n",
        "      - == checks if the data inside is the same.\n",
        "\n",
        "      - is checks if it’s the exact same object in memory.\n"
      ],
      "metadata": {
        "id": "zb58nIdSa8nL"
      }
    },
    {
      "cell_type": "markdown",
      "source": [
        "8. What are logical operators in Python?\n",
        "\n",
        "    - **Definition**: In Python, logical operators are used to combine conditional statements and control the flow of logic. They return Boolean values (True or False) based on the evaluation of expressions.\n",
        "    - **Types**:\n",
        "        - and: Returns True if both operands are True.\n",
        "        - or: Returns True if at least one operand is True.\n",
        "        - not: Reverses the logical state of an operand.\n",
        "    - **Examples**:\n",
        "\n",
        "      ```\n",
        "      age = 25\n",
        "      has_ticket = True\n",
        "\n",
        "      if age >= 18 and has_ticket:\n",
        "        print(\"Allowed to board\")\n",
        "      else:\n",
        "        print(\"Access denied\")\n",
        "      ```\n",
        "\n"
      ],
      "metadata": {
        "id": "0Gsa6su_eWYx"
      }
    },
    {
      "cell_type": "markdown",
      "source": [
        "9. What is type casting in Python?\n",
        "    - **Definition**: Type casting is the process of manually converting a variable from one data type to another using built-in functions.\n",
        "    \n",
        "    - **Purpose**: Type casting is necessary when the automatic, implicit conversion rules don't apply. For example, converting a string input from a user into an integer to perform a calculation.\n",
        "\n",
        "    - **Example**:\n",
        "\n",
        "      ```\n",
        "      my_str = \"123\"\n",
        "      my_int = int(my_str) # Casts the string to an integer\n",
        "      print(my_int + 1)\n",
        "      \n",
        "      # Output: 124\n",
        "      ```\n",
        "\n",
        "\n"
      ],
      "metadata": {
        "id": "EWFRzuCbmM3m"
      }
    },
    {
      "cell_type": "markdown",
      "source": [
        "10. What is the difference between implicit and explicit type casting?\n",
        "  \n",
        "    - **Implicit (Automatic) Type Casting**: This is done automatically by the Python interpreter to avoid data loss. It happens when you perform an operation on operands of different data types, and Python promotes the smaller data type to the larger one. For example, adding an integer and a float results in a float.\n",
        "\n",
        "      - Example:\n",
        "\n",
        "\n",
        "        ```\n",
        "        x = 100         # int\n",
        "        y = 2.25        # float\n",
        "        result = x + y  # Python converts x to float automatically\n",
        "        print(result)\n",
        "        \n",
        "        # Output: 102.25 (float)\n",
        "        ```\n",
        "\n",
        "\n",
        "\n",
        "    - **Explicit (Manual) Type Casting**: This is done manually by the programmer using functions like int(), float(), or str(). Explicit casting can result in data loss if you convert a larger data type to a smaller one (e.g., float to integer).\n",
        "\n",
        "        - Example:\n",
        "\n",
        "\n",
        "          ```\n",
        "          a = 5.9\n",
        "          b = int(a)  # Explicitly cast float to int\n",
        "          print(b)  \n",
        "          \n",
        "          # Output: 5 (decimal part is truncated)\n",
        "          ```"
      ],
      "metadata": {
        "id": "VjCdAYthsAAz"
      }
    },
    {
      "cell_type": "markdown",
      "source": [
        "11. What is the purpose of conditional statements in Python?\n",
        "\n",
        "    - **Primary purpose**: Conditional statements are used to control the flow of a program's execution.\n",
        "\n",
        "    - **Error Handling & Validation**: Helps check for invalid inputs before proceeding. Example: Validate form fields before submission.\n",
        "\n",
        "    - **How they work**: They allow a program to make decisions and execute specific blocks of code only if certain conditions are met.\n",
        "    \n",
        "    - **Types**: The main conditional statements are if, elif, and else.\n",
        "\n",
        "    - **Example**: Show different messages based on temperature readings.\n",
        "\n",
        "\n",
        "      ```\n",
        "      temperature = 38\n",
        "\n",
        "      if temperature > 37:\n",
        "          print(\"High fever\")\n",
        "      elif temperature > 36:\n",
        "          print(\"Mild fever\")\n",
        "      else:\n",
        "          print(\"Normal\")\n",
        "\n",
        "      # Output: High fever\n",
        "      ```\n",
        "\n"
      ],
      "metadata": {
        "id": "9ELuuESrRUjg"
      }
    },
    {
      "cell_type": "markdown",
      "source": [
        "12. How does the elif statement work?\n",
        "\n",
        "    - **Definition**: The elif statement allows you to check for multiple conditions sequentially after an initial if staatement.\n",
        "\n",
        "    - **Mechanism**: When a series of if-elif-else statements is evaluated, Python checks the initial if condition first. If it's false, it moves to the first elif condition. It continues down the other elif's conditions until it finds a condition that is True.\n",
        "\n",
        "    - **Execution**: Once a True condition is found, its associated code block is executed, and the rest of the elif and else blocks are skipped. If no if or elif condition is True, the else block (if present) is executed.\n",
        "\n",
        "    - **Example**:\n",
        "\n",
        "\n",
        "      ```\n",
        "      marks = 87\n",
        "\n",
        "      if marks >= 90:\n",
        "        print(\"Grade: A\")\n",
        "      elif marks >= 80:\n",
        "        print(\"Grade: B\")\n",
        "      elif score >= 70:\n",
        "          print(\"Grade: C\")\n",
        "      else:\n",
        "          print(\"Grade: F\")\n",
        "\n",
        "      # Output: Grade: B\n",
        "      ```\n",
        "\n"
      ],
      "metadata": {
        "id": "2I9DCuErT5kq"
      }
    },
    {
      "cell_type": "markdown",
      "source": [
        "13. What is the difference between for and while loops?\n",
        "\n",
        "    - **for loop**\n",
        "      - Used when the number of iterations is known or finite\n",
        "      - Ideal for iterating over lists, strings, or any iterable\n",
        "\n",
        "\n",
        "      ```\n",
        "      for i in range(5):\n",
        "          print(i)\n",
        "      # This loop runs exactly 5 times, from 0 to 4.\n",
        "      ```\n",
        "\n",
        "\n",
        "    - **while loop**\n",
        "      - Used when the number of iterations is unknown\n",
        "      - Continues as long as the condition remains True\n",
        "\n",
        "\n",
        "      ```\n",
        "      i = 0\n",
        "      while i < 5:\n",
        "          print(i)\n",
        "          i += 1\n",
        "      # This loop also runs 5 times, but the control is based on a condition, not a sequence.\n",
        "      ```\n",
        "\n"
      ],
      "metadata": {
        "id": "9A_mBbBzV-Yr"
      }
    },
    {
      "cell_type": "markdown",
      "source": [
        "14. Describe a scenario where a while loop is more suitable than a for loop.\n",
        "\n",
        "    - **Scenario**: Imagine a user is trying to enter their ATM PIN. You want to allow up to 3 attempts, but stop immediately if they enter the correct PIN.\n",
        "   \n",
        "    - **Code Example**:\n",
        "\n",
        "\n",
        "      ```\n",
        "      atm_pin = 123\n",
        "      attempts = 0\n",
        "      max_attempts = 3\n",
        "\n",
        "      while attempts < max_attempts:\n",
        "        entered_pin = input(\"Enter your PIN: \")\n",
        "        if entered_pin == atm_pin:\n",
        "          print(\"Access granted\")\n",
        "          break\n",
        "        else:\n",
        "          print(\"Incorrect PIN\")\n",
        "          attempts += 1\n",
        "      \n",
        "      if attempts == max_attempts:\n",
        "        print(\"Account locked due to too many failed attempts\")\n",
        "      ```\n",
        "\n",
        "\n",
        "    - **Why while is better**:\n",
        "      - When you don’t know in advance how many attempts will be needed.\n",
        "      - The loop should stop early if the correct PIN is entered.\n",
        "      - A for loop would force all 3 iterations even if the first one succeeds—less efficient and less intuitive.\n",
        "\n",
        "    "
      ],
      "metadata": {
        "id": "aKHiOihJYr0Q"
      }
    },
    {
      "cell_type": "markdown",
      "source": [
        "# Practical Questions"
      ],
      "metadata": {
        "id": "dQ1qXpqhmtsy"
      }
    },
    {
      "cell_type": "code",
      "source": [
        "# 1. Write a Python program to print \"Hello, World!\n",
        "\n",
        "print(\"Hello, World\")\n",
        "\n",
        "# Output: Hello, World\n"
      ],
      "metadata": {
        "id": "wRwWkhsCmrIh"
      },
      "execution_count": null,
      "outputs": []
    },
    {
      "cell_type": "code",
      "source": [
        "# 2. Write a Python program that displays your name and age.\n",
        "\n",
        "name = \"Devansh Dureja\"\n",
        "age = 28\n",
        "print(f\"My name is {name} and I am {age} years old.\")\n",
        "\n",
        "# Output: My name is Devansh Dureja and I am 28 years old.\n"
      ],
      "metadata": {
        "id": "g3Pvvk66nLIt"
      },
      "execution_count": null,
      "outputs": []
    },
    {
      "cell_type": "code",
      "source": [
        "# 3. Write code to print all the pre-defined keywords in Python using the keyword library.\n",
        "\n",
        "import keyword\n",
        "help('keywords')\n"
      ],
      "metadata": {
        "id": "saYq8b1Jn2OF"
      },
      "execution_count": null,
      "outputs": []
    },
    {
      "cell_type": "code",
      "source": [
        "# 4. Write a program that checks if a given word is a Python keyword.\n",
        "\n",
        "word = input(\"Enter your word: \")\n",
        "\n",
        "if keyword.iskeyword(word):\n",
        "  print(f\"'{word}' is a Python Keyword!\")\n",
        "else:\n",
        "  print(f\"'{word}' is not a Python Keyword!\")\n",
        "\n",
        "'''\n",
        "Output:\n",
        "Enter your word: for\n",
        "'for' is a Python Keyword!\n",
        "'''\n"
      ],
      "metadata": {
        "id": "2TVYNdZVohPJ"
      },
      "execution_count": null,
      "outputs": []
    },
    {
      "cell_type": "code",
      "source": [
        "'''\n",
        "5.  Create a list and tuple in Python, and demonstrate how attempting to change an element works differently\n",
        "for each.\n",
        "'''\n",
        "\n",
        "# List\n",
        "itinerary = [\"Rajpura\", \"Delhi\", \"Manali\"]\n",
        "itinerary[1] = \"Chandigarh\"  # User changes destination\n",
        "print(\"Updated itinerary:\", itinerary)\n",
        "\n",
        "# Output: Updated itinerary: ['Rajpura', 'Chandigarh', 'Manali']\n",
        "\n",
        "\n",
        "\n",
        "# Tuple\n",
        "passport_info = (\"Ziddi\", \"India\", \"1234567890\")\n",
        "passport_info[2] = \"0987654321\"  # Error: Tuples can't be changed\n",
        "\n",
        "# Output: TypeError: 'tuple' object does not support item assignment\n"
      ],
      "metadata": {
        "id": "QJRPBD-cqDAN"
      },
      "execution_count": null,
      "outputs": []
    },
    {
      "cell_type": "code",
      "source": [
        "# 6. Write a function to demonstrate the behavior of mutable and immutable arguments.\n",
        "\n",
        "# - Behavior of Mutable Arguments\n",
        "def add_item(cart, new_item):\n",
        "  cart.append(new_item)\n",
        "\n",
        "my_cart = [\"Laptop\", \"Keyboard\"]\n",
        "\n",
        "add_item(my_cart, \"Mouse\")\n",
        "print(my_cart)\n",
        "# cart is a list (mutable), so changes inside the function affect the original object.\n",
        "\n",
        "# Output: ['Laptop', 'Keyboard', 'Mouse']\n",
        "\n",
        "\n",
        "\n",
        "\n",
        "# - Behavior of Immutable Arguments\n",
        "def update_age(age):\n",
        "  age += 1\n",
        "  return age\n",
        "\n",
        "age = 27\n",
        "new_age = update_age(age)\n",
        "print(age)      # 27\n",
        "print(new_age)  # 28\n",
        "# age is an integer (immutable), so the original value remains unchanged unless reassigned.\n",
        "\n",
        "'''\n",
        "Output:\n",
        "27\n",
        "28\n",
        "'''\n"
      ],
      "metadata": {
        "id": "m3egSB4_ti-4"
      },
      "execution_count": null,
      "outputs": []
    },
    {
      "cell_type": "code",
      "source": [
        "# 7. Write a program that performs basic arithmetic operations on two user-input numbers.\n",
        "\n",
        "num1 = float(input(\"Enter first number: \"))\n",
        "num2 = float(input(\"Enter second number: \"))\n",
        "\n",
        "print(\"Addition:\", num1 + num2)\n",
        "print(\"Subtraction:\", num1 - num2)\n",
        "print(\"Multiplication:\", num1 * num2)\n",
        "print(\"Division:\", num1 / num2)\n",
        "\n",
        "'''\n",
        "Output:\n",
        "Enter first number: 5\n",
        "Enter second number: 7\n",
        "Addition: 12.0\n",
        "Subtraction: -2.0\n",
        "Multiplication: 35.0\n",
        "Division: 0.7142857142857143\n",
        "'''\n"
      ],
      "metadata": {
        "id": "yBk7Vw6-0Hto"
      },
      "execution_count": null,
      "outputs": []
    },
    {
      "cell_type": "code",
      "source": [
        "# 8. Write a program to demonstrate the use of logical operators.\n",
        "\n",
        "# and operator\n",
        "username = input(\"Username: \")\n",
        "password = input(\"Password: \")\n",
        "\n",
        "if username == \"PWSkills\" and password == \"isAwesome\":\n",
        "  print(\"Login successful\")\n",
        "else:\n",
        "  print(\"Invalid credentials\")\n",
        "\n",
        "'''\n",
        "Output:\n",
        "Username: PWSkills\n",
        "Password: isAwesome\n",
        "Login successful\n",
        "'''\n",
        "\n",
        "\n",
        "\n",
        "# or operator\n",
        "is_student = True\n",
        "has_coupon = False\n",
        "\n",
        "if is_student or has_coupon:\n",
        "    print(\"You get a discount!\")\n",
        "else:\n",
        "    print(\"No discount available\")\n",
        "\n",
        "# Output: You get a discount!\n",
        "\n",
        "\n",
        "\n",
        "\n",
        "# not operator\n",
        "traffic_clear = False\n",
        "\n",
        "if not traffic_clear:\n",
        "    print(\"Alert: Heavy traffic ahead!\")\n",
        "else:\n",
        "    print(\"Road is clear\")\n",
        "\n",
        "# Output: Alert: Heavy traffic ahead!\n"
      ],
      "metadata": {
        "id": "a0DHE6NW09zX"
      },
      "execution_count": null,
      "outputs": []
    },
    {
      "cell_type": "code",
      "source": [
        "# 9. Write a Python program to convert user input from string to integer, float, and boolean types.\n",
        "\n",
        "# String to integer and float\n",
        "quantity = int(input(\"Enter quantity: \"))       # \"3\"\n",
        "price_per_item = float(input(\"Enter price: \"))  # \"499.99\"\n",
        "\n",
        "total_cost = quantity * price_per_item\n",
        "print(f\"Total cost: {total_cost}\")\n",
        "\n",
        "'''\n",
        "Output:\n",
        "Enter quantity: 3\n",
        "Enter price: 499.99\n",
        "Total cost: 1499.97\n",
        "'''\n",
        "\n",
        "\n",
        "\n",
        "# String to boolean\n",
        "subscribe_input = input(\"Subscribe to newsletter? (yes/no): \")  # \"yes\"\n",
        "\n",
        "subscribe = bool(subscribe_input.lower() == \"yes\")\n",
        "print(\"Subscribed:\", subscribe)\n",
        "\n",
        "# Output: Subscribed: True\n"
      ],
      "metadata": {
        "id": "Ji2W_6LL23lm"
      },
      "execution_count": null,
      "outputs": []
    },
    {
      "cell_type": "code",
      "source": [
        "# 10. Write code to demonstrate type casting with list elements\n",
        "\n",
        "form_data = [\"Devansh\", \"28\", \"Punjab\", \"true\"]  # age is at index 1\n",
        "\n",
        "form_data[1] = int(form_data[1])  # Typecast only the age field\n",
        "print(form_data)\n",
        "\n",
        "# Output: ['Devansh', 28, 'Punjab', 'true']\n"
      ],
      "metadata": {
        "id": "tCt2O7VA7CTW"
      },
      "execution_count": null,
      "outputs": []
    },
    {
      "cell_type": "code",
      "source": [
        "# 11. Write a program that checks if a number is positive, negative, or zero\n",
        "\n",
        "num = int(input(\"Enter your number: \"))\n",
        "\n",
        "if num > 0:\n",
        "  print(f\"{num} is Positive\")\n",
        "elif num < 0:\n",
        "  print(f\"{num} is Negative\")\n",
        "else:\n",
        "  print(f\"{num} is Zero\")\n",
        "\n",
        "'''\n",
        "Output:\n",
        "Enter your number: -8\n",
        "-8 is Negative\n",
        "'''\n"
      ],
      "metadata": {
        "id": "cR6728qy99jk"
      },
      "execution_count": null,
      "outputs": []
    },
    {
      "cell_type": "code",
      "source": [
        "# 12. Write a for loop to print numbers from 1 to 10.\n",
        "\n",
        "for i in range(1, 11):\n",
        "  print(i)\n",
        "\n",
        "'''\n",
        "Output:\n",
        "1\n",
        "2\n",
        "3\n",
        "4\n",
        "5\n",
        "6\n",
        "7\n",
        "8\n",
        "9\n",
        "10\n",
        "'''\n"
      ],
      "metadata": {
        "id": "Ie0zoEFY--R-"
      },
      "execution_count": null,
      "outputs": []
    },
    {
      "cell_type": "code",
      "source": [
        "# 13. Write a Python program to find the sum of all even numbers between 1 and 50\n",
        "\n",
        "sum = 0\n",
        "\n",
        "for i in range(1, 51):\n",
        "  if i % 2 == 0:\n",
        "    sum += i\n",
        "  else:\n",
        "    None\n",
        "\n",
        "print(\"Sum of even numbers from 1 to 50 is:\", sum)\n",
        "\n",
        "# Output: Sum of even numbers from 1 to 50 is: 650\n"
      ],
      "metadata": {
        "id": "0Kh9jbjqFrYh"
      },
      "execution_count": null,
      "outputs": []
    },
    {
      "cell_type": "code",
      "source": [
        "# 14. Write a program to reverse a string using a while loop.\n",
        "\n",
        "str = input(\"Enter your string: \")\n",
        "reverse_str = \"\"\n",
        "index = len(str) -1\n",
        "\n",
        "while index >= 0:\n",
        "  reverse_str += str[index]\n",
        "  index -= 1\n",
        "\n",
        "print(reverse_str)\n",
        "\n",
        "'''\n",
        "Output:\n",
        "Enter your string: dev\n",
        "ved\n",
        "'''\n"
      ],
      "metadata": {
        "id": "-lGoA_ZXHI0a"
      },
      "execution_count": null,
      "outputs": []
    },
    {
      "cell_type": "code",
      "source": [
        "# 15. Write a Python program to calculate the factorial of a number provided by the user using a while loop.\n",
        "\n",
        "num = int(input(\"Enter your number: \"))    # User input\n",
        "ftr = 1            # Starting factorial value\n",
        "num1 = num         # Backup of original number\n",
        "\n",
        "while num > 0:     # Loop until num reaches 0\n",
        "  ftr *= num       # Multiply ftr by current num\n",
        "  num -= 1         # Decrease num by 1\n",
        "\n",
        "print(f\"Factorial of {num1}: {ftr}\")      # Display result\n",
        "\n",
        "\"\"\"\n",
        "Output:\n",
        "Enter your number: 3\n",
        "Factorial of 3: 6\n",
        "\"\"\"\n"
      ],
      "metadata": {
        "id": "tBjd8U0kKNKb"
      },
      "execution_count": null,
      "outputs": []
    }
  ]
}